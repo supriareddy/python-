{
 "cells": [
  {
   "cell_type": "code",
   "execution_count": 6,
   "metadata": {
    "scrolled": true
   },
   "outputs": [
    {
     "name": "stdout",
     "output_type": "stream",
     "text": [
      "[1, 4, 9, 16]\n"
     ]
    },
    {
     "data": {
      "text/plain": [
       "[1, 4, 9, 16]"
      ]
     },
     "execution_count": 6,
     "metadata": {},
     "output_type": "execute_result"
    }
   ],
   "source": [
    "##list comprehension\n",
    "lst=[1,2,3,4]\n",
    "lst1=[]\n",
    "for i in lst:\n",
    "    lst1.append(i**2)\n",
    "print(lst1) \n",
    "##instead of using this we can write it using list comprehension\n",
    "[i**2 for i in lst]"
   ]
  },
  {
   "cell_type": "code",
   "execution_count": 5,
   "metadata": {},
   "outputs": [
    {
     "data": {
      "text/plain": [
       "[1, 4, 9, 16]"
      ]
     },
     "execution_count": 5,
     "metadata": {},
     "output_type": "execute_result"
    }
   ],
   "source": [
    "[i**2 for i in lst]"
   ]
  },
  {
   "cell_type": "code",
   "execution_count": 27,
   "metadata": {},
   "outputs": [
    {
     "name": "stdout",
     "output_type": "stream",
     "text": [
      "even=[2, 4, 6, 8, 10] odd=[1, 3, 5, 7, 9]\n"
     ]
    }
   ],
   "source": [
    "##even and odd no in list using for and if in list comprehension\n",
    "lst=[1,2,3,4,5,6,7,8,9,10]\n",
    "lst1=[i for i in lst if i%2==0]\n",
    "lst2=[i for i in lst if i%2!=0]\n",
    "print(\"even={}\\todd={}\".expandtabs().format(lst1,lst2))"
   ]
  },
  {
   "cell_type": "code",
   "execution_count": 28,
   "metadata": {},
   "outputs": [
    {
     "data": {
      "text/plain": [
       "30"
      ]
     },
     "execution_count": 28,
     "metadata": {},
     "output_type": "execute_result"
    }
   ],
   "source": [
    "sum(lst1)"
   ]
  },
  {
   "cell_type": "markdown",
   "metadata": {},
   "source": [
    "Tuples"
   ]
  },
  {
   "cell_type": "markdown",
   "metadata": {},
   "source": [
    "Tuples are immutable(doesnt support item assignment ),in tuples we use  basic bracket(),we can also convert list to tuples,tuples can have heterogenpus elements "
   ]
  },
  {
   "cell_type": "code",
   "execution_count": 32,
   "metadata": {},
   "outputs": [
    {
     "data": {
      "text/plain": [
       "tuple"
      ]
     },
     "execution_count": 32,
     "metadata": {},
     "output_type": "execute_result"
    }
   ],
   "source": [
    "t=tuple([1,2,3,4,5,'supriya']) ##list to tuple conversion\n",
    "type(t)"
   ]
  },
  {
   "cell_type": "code",
   "execution_count": 4,
   "metadata": {},
   "outputs": [
    {
     "data": {
      "text/plain": [
       "['ayirpus', 'ydder']"
      ]
     },
     "execution_count": 4,
     "metadata": {},
     "output_type": "execute_result"
    }
   ],
   "source": [
    "t=('supriya','reddy')\n",
    "t\n",
    "##tuple comprehension and reversing \n",
    "[i[::-1] for i in t]"
   ]
  },
  {
   "cell_type": "code",
   "execution_count": 18,
   "metadata": {},
   "outputs": [
    {
     "data": {
      "text/plain": [
       "6"
      ]
     },
     "execution_count": 18,
     "metadata": {},
     "output_type": "execute_result"
    }
   ],
   "source": [
    "##inbuilt functions for tuples\n",
    "t=(1,2,3,4,5,'supriya')\n",
    "t.index(4)\n",
    "t.count(5)\n",
    "len(t)"
   ]
  },
  {
   "cell_type": "markdown",
   "metadata": {},
   "source": [
    "tuples are used where immutability is not necessary "
   ]
  },
  {
   "cell_type": "markdown",
   "metadata": {},
   "source": [
    "##Sets\n",
    "sets are unordered collection of unique elements which can be constructed using set() function."
   ]
  },
  {
   "cell_type": "code",
   "execution_count": 19,
   "metadata": {},
   "outputs": [
    {
     "data": {
      "text/plain": [
       "{1, 2, 3, 4, 5}"
      ]
     },
     "execution_count": 19,
     "metadata": {},
     "output_type": "execute_result"
    }
   ],
   "source": [
    "set([1,2,3,4,5])\n"
   ]
  },
  {
   "cell_type": "code",
   "execution_count": 21,
   "metadata": {},
   "outputs": [
    {
     "data": {
      "text/plain": [
       "{1, 2, 3, 4, 5, 6, 7}"
      ]
     },
     "execution_count": 21,
     "metadata": {},
     "output_type": "execute_result"
    }
   ],
   "source": [
    "{1,2,2,2,2,3,4,5,6,7,7,7,7} ##set will give unique elements even thou it has same /repeated elements "
   ]
  },
  {
   "cell_type": "code",
   "execution_count": null,
   "metadata": {},
   "outputs": [],
   "source": [
    "type({}) ##this is considered as dict\n",
    "type({1})##this is considered as set\n",
    "x=set()   ##this is empty set"
   ]
  },
  {
   "cell_type": "code",
   "execution_count": 23,
   "metadata": {},
   "outputs": [
    {
     "data": {
      "text/plain": [
       "{1, 2, 3, 4, 5, 6}"
      ]
     },
     "execution_count": 23,
     "metadata": {},
     "output_type": "execute_result"
    }
   ],
   "source": [
    "##set -inbuilt functions\n",
    "x1={1,2,3,4,5}\n",
    "x2={2,3,4,5,6,7}\n",
    "x1.add(6)\n",
    "x1"
   ]
  },
  {
   "cell_type": "code",
   "execution_count": 24,
   "metadata": {},
   "outputs": [
    {
     "data": {
      "text/plain": [
       "{1, 2, 3, 4, 5, 6, 7}"
      ]
     },
     "execution_count": 24,
     "metadata": {},
     "output_type": "execute_result"
    }
   ],
   "source": [
    "x1.union(x2)"
   ]
  },
  {
   "cell_type": "code",
   "execution_count": 25,
   "metadata": {},
   "outputs": [
    {
     "data": {
      "text/plain": [
       "{2, 3, 4, 5, 6}"
      ]
     },
     "execution_count": 25,
     "metadata": {},
     "output_type": "execute_result"
    }
   ],
   "source": [
    "x1.intersection(x2)"
   ]
  },
  {
   "cell_type": "code",
   "execution_count": 28,
   "metadata": {},
   "outputs": [
    {
     "data": {
      "text/plain": [
       "{2, 3, 4, 5, 6}"
      ]
     },
     "execution_count": 28,
     "metadata": {},
     "output_type": "execute_result"
    }
   ],
   "source": [
    "x1.intersection_update(x2) \n",
    "x1"
   ]
  },
  {
   "cell_type": "code",
   "execution_count": 30,
   "metadata": {},
   "outputs": [
    {
     "data": {
      "text/plain": [
       "{1}"
      ]
     },
     "execution_count": 30,
     "metadata": {},
     "output_type": "execute_result"
    }
   ],
   "source": [
    "x1={1,2,3,4,5}\n",
    "x1.difference(x2)"
   ]
  },
  {
   "cell_type": "code",
   "execution_count": 33,
   "metadata": {},
   "outputs": [
    {
     "data": {
      "text/plain": [
       "True"
      ]
     },
     "execution_count": 33,
     "metadata": {},
     "output_type": "execute_result"
    }
   ],
   "source": [
    "x1={3,4,5}\n",
    "x2={1,2,3,4,5,6,7}\n",
    "x1.issubset(x2)"
   ]
  },
  {
   "cell_type": "code",
   "execution_count": 34,
   "metadata": {},
   "outputs": [
    {
     "data": {
      "text/plain": [
       "True"
      ]
     },
     "execution_count": 34,
     "metadata": {},
     "output_type": "execute_result"
    }
   ],
   "source": [
    "x2.issuperset(x1)"
   ]
  },
  {
   "cell_type": "markdown",
   "metadata": {},
   "source": [
    "sets are not subscriptable if you want to do indexing we have to convert set to list "
   ]
  },
  {
   "cell_type": "markdown",
   "metadata": {},
   "source": [
    "##Dictionaries"
   ]
  },
  {
   "cell_type": "markdown",
   "metadata": {},
   "source": [
    "combination of key value pairs /hash tables in other programming languages,dictionaries are not subscriptable  "
   ]
  },
  {
   "cell_type": "code",
   "execution_count": 36,
   "metadata": {},
   "outputs": [
    {
     "data": {
      "text/plain": [
       "dict"
      ]
     },
     "execution_count": 36,
     "metadata": {},
     "output_type": "execute_result"
    }
   ],
   "source": [
    "type({})"
   ]
  },
  {
   "cell_type": "code",
   "execution_count": 37,
   "metadata": {},
   "outputs": [],
   "source": [
    "var={1:'supriya',2:'reddy',3:21}"
   ]
  },
  {
   "cell_type": "code",
   "execution_count": 38,
   "metadata": {},
   "outputs": [
    {
     "data": {
      "text/plain": [
       "dict"
      ]
     },
     "execution_count": 38,
     "metadata": {},
     "output_type": "execute_result"
    }
   ],
   "source": [
    "type(var)"
   ]
  },
  {
   "cell_type": "code",
   "execution_count": 42,
   "metadata": {},
   "outputs": [
    {
     "data": {
      "text/plain": [
       "dict_items([(1, 'supriya'), (2, 'reddy'), (3, 21)])"
      ]
     },
     "execution_count": 42,
     "metadata": {},
     "output_type": "execute_result"
    }
   ],
   "source": [
    "##indexing in dictionary\n",
    "var.items()"
   ]
  },
  {
   "cell_type": "code",
   "execution_count": 44,
   "metadata": {},
   "outputs": [
    {
     "data": {
      "text/plain": [
       "dict_keys([1, 2, 3])"
      ]
     },
     "execution_count": 44,
     "metadata": {},
     "output_type": "execute_result"
    }
   ],
   "source": [
    "var.keys()"
   ]
  },
  {
   "cell_type": "markdown",
   "metadata": {},
   "source": [
    "in dictionaries keys must be unique but variable can be same "
   ]
  },
  {
   "cell_type": "code",
   "execution_count": 45,
   "metadata": {},
   "outputs": [
    {
     "data": {
      "text/plain": [
       "'supriya'"
      ]
     },
     "execution_count": 45,
     "metadata": {},
     "output_type": "execute_result"
    }
   ],
   "source": [
    "var[1]"
   ]
  },
  {
   "cell_type": "markdown",
   "metadata": {},
   "source": [
    "keys can eithe be alphabets or numbers indexig is given accoording to the keys "
   ]
  },
  {
   "cell_type": "code",
   "execution_count": 46,
   "metadata": {},
   "outputs": [],
   "source": [
    "var={'a':'supriya','b':'reddy','c':21}"
   ]
  },
  {
   "cell_type": "code",
   "execution_count": 48,
   "metadata": {},
   "outputs": [
    {
     "data": {
      "text/plain": [
       "'reddy'"
      ]
     },
     "execution_count": 48,
     "metadata": {},
     "output_type": "execute_result"
    }
   ],
   "source": [
    "var['b']"
   ]
  },
  {
   "cell_type": "code",
   "execution_count": 1,
   "metadata": {},
   "outputs": [
    {
     "data": {
      "text/plain": [
       "3"
      ]
     },
     "execution_count": 1,
     "metadata": {},
     "output_type": "execute_result"
    }
   ],
   "source": [
    "my_dict={'key1':123,'key2':[1,2,3],'key3':['supriya','reddy']}\n",
    "my_dict['key2'][2]"
   ]
  },
  {
   "cell_type": "markdown",
   "metadata": {},
   "source": [
    " Nesting with Dictionaries"
   ]
  },
  {
   "cell_type": "code",
   "execution_count": 1,
   "metadata": {},
   "outputs": [],
   "source": [
    "d={'key1':{'nestkey':{'subnestkey':'value'}}}"
   ]
  },
  {
   "cell_type": "code",
   "execution_count": 3,
   "metadata": {},
   "outputs": [
    {
     "data": {
      "text/plain": [
       "'value'"
      ]
     },
     "execution_count": 3,
     "metadata": {},
     "output_type": "execute_result"
    }
   ],
   "source": [
    "d['key1']['nestkey']['subnestkey']"
   ]
  },
  {
   "cell_type": "markdown",
   "metadata": {},
   "source": [
    "Dictionary comprehensions"
   ]
  },
  {
   "cell_type": "code",
   "execution_count": 4,
   "metadata": {},
   "outputs": [
    {
     "data": {
      "text/plain": [
       "{0: 0, 1: 1, 2: 4, 3: 9, 4: 16, 5: 25, 6: 36, 7: 49, 8: 64, 9: 81}"
      ]
     },
     "execution_count": 4,
     "metadata": {},
     "output_type": "execute_result"
    }
   ],
   "source": [
    "{x:x**2 for x in range(10)}"
   ]
  },
  {
   "cell_type": "markdown",
   "metadata": {},
   "source": [
    "Functions"
   ]
  },
  {
   "cell_type": "code",
   "execution_count": 7,
   "metadata": {},
   "outputs": [],
   "source": [
    "##syntax\n",
    "def func_name(parameter1,parameter2,......):\n",
    "    statements \n",
    "       \n",
    "\n"
   ]
  },
  {
   "cell_type": "code",
   "execution_count": 9,
   "metadata": {},
   "outputs": [
    {
     "data": {
      "text/plain": [
       "(12, 9)"
      ]
     },
     "execution_count": 9,
     "metadata": {},
     "output_type": "execute_result"
    }
   ],
   "source": [
    "##sum of all even and odd numbers using functionn\n",
    "def even_odd_sum(lst):\n",
    "    sum1=0\n",
    "    sum2=0\n",
    "    for i in lst:\n",
    "        if i%2==0:\n",
    "            sum1=sum1+i\n",
    "        else:\n",
    "            sum2=sum2+i\n",
    "    return sum1,sum2\n",
    "even_odd_sum([1,2,3,4,5,6]) ##calling a function\n",
    "        \n",
    "            "
   ]
  },
  {
   "cell_type": "code",
   "execution_count": 15,
   "metadata": {},
   "outputs": [
    {
     "data": {
      "text/plain": [
       "[8, 10, 12, 14, 9, 11]"
      ]
     },
     "execution_count": 15,
     "metadata": {},
     "output_type": "execute_result"
    }
   ],
   "source": [
    "##adding two lists\n",
    "lst1=[2,3,4,5,6,7]\n",
    "lst2=[6,7,8,9,3,4]\n",
    "res_list=[]\n",
    "def sum(lst1,lst2):\n",
    "    for i in range(0,len(lst1)):\n",
    "        res_list.append(lst1[i]+lst2[i])\n",
    "    return res_list\n",
    "sum(lst1,lst2)\n",
    "    \n",
    "    \n",
    "       "
   ]
  },
  {
   "cell_type": "markdown",
   "metadata": {},
   "source": [
    "###iterators and generators\n"
   ]
  },
  {
   "cell_type": "code",
   "execution_count": 2,
   "metadata": {},
   "outputs": [
    {
     "name": "stdout",
     "output_type": "stream",
     "text": [
      "1\n",
      "2\n",
      "3\n",
      "4\n",
      "5\n"
     ]
    }
   ],
   "source": [
    "##list is iterable and mutable \n",
    "for i in  [1,2,3,4,5]:\n",
    "    print(i)\n",
    "    "
   ]
  },
  {
   "cell_type": "code",
   "execution_count": 3,
   "metadata": {},
   "outputs": [
    {
     "name": "stdout",
     "output_type": "stream",
     "text": [
      "s\n",
      "u\n",
      "p\n",
      "r\n",
      "i\n",
      "y\n",
      "a\n"
     ]
    }
   ],
   "source": [
    "##string is iterable but immutable  \n",
    "for i in \"supriya\":\n",
    "    print(i)"
   ]
  },
  {
   "cell_type": "code",
   "execution_count": 4,
   "metadata": {},
   "outputs": [
    {
     "name": "stdout",
     "output_type": "stream",
     "text": [
      "supriya\n",
      "1\n",
      "2\n",
      "3\n"
     ]
    }
   ],
   "source": [
    "##tuples are also iterable but immutable\n",
    "for i in(\"supriya\",1,2,3):\n",
    "    print(i)"
   ]
  },
  {
   "cell_type": "code",
   "execution_count": 14,
   "metadata": {},
   "outputs": [
    {
     "data": {
      "text/plain": [
       "<list_iterator at 0x1ed32d3eaf0>"
      ]
     },
     "execution_count": 14,
     "metadata": {},
     "output_type": "execute_result"
    }
   ],
   "source": [
    "####Iterator-can be created on iterable objects \n",
    "a=iter([1,2,3,4,5])\n",
    "a"
   ]
  },
  {
   "cell_type": "code",
   "execution_count": 15,
   "metadata": {},
   "outputs": [
    {
     "data": {
      "text/plain": [
       "1"
      ]
     },
     "execution_count": 15,
     "metadata": {},
     "output_type": "execute_result"
    }
   ],
   "source": [
    "##lazy evaluation-unless and until u call that object or element it will not be loaded \n",
    "next(a) ##loading elements "
   ]
  },
  {
   "cell_type": "markdown",
   "metadata": {},
   "source": [
    "###in lazy iteration/evaluation it takes only one memory location and stores one  element at a time and then the value will be iterated "
   ]
  },
  {
   "cell_type": "code",
   "execution_count": 16,
   "metadata": {},
   "outputs": [
    {
     "data": {
      "text/plain": [
       "2"
      ]
     },
     "execution_count": 16,
     "metadata": {},
     "output_type": "execute_result"
    }
   ],
   "source": [
    "next(a)"
   ]
  },
  {
   "cell_type": "code",
   "execution_count": 17,
   "metadata": {},
   "outputs": [
    {
     "name": "stdout",
     "output_type": "stream",
     "text": [
      "3\n",
      "4\n",
      "5\n"
     ]
    }
   ],
   "source": [
    "for i in a :\n",
    "    print(i)"
   ]
  },
  {
   "cell_type": "code",
   "execution_count": 18,
   "metadata": {},
   "outputs": [
    {
     "ename": "NameError",
     "evalue": "name 'nest' is not defined",
     "output_type": "error",
     "traceback": [
      "\u001b[1;31m---------------------------------------------------------------------------\u001b[0m",
      "\u001b[1;31mNameError\u001b[0m                                 Traceback (most recent call last)",
      "\u001b[1;32m<ipython-input-18-cf25e7d7034c>\u001b[0m in \u001b[0;36m<module>\u001b[1;34m\u001b[0m\n\u001b[1;32m----> 1\u001b[1;33m \u001b[0mnest\u001b[0m\u001b[1;33m(\u001b[0m\u001b[0ma\u001b[0m\u001b[1;33m)\u001b[0m\u001b[1;31m##ieration is over and it doesnt load any elements\u001b[0m\u001b[1;33m\u001b[0m\u001b[1;33m\u001b[0m\u001b[0m\n\u001b[0m",
      "\u001b[1;31mNameError\u001b[0m: name 'nest' is not defined"
     ]
    }
   ],
   "source": [
    "nest(a)##iteration is over and it doesnt load any elements "
   ]
  },
  {
   "cell_type": "markdown",
   "metadata": {},
   "source": [
    "##generator -main aim of generator is to create a iterator \n",
    "##yield keyword is used "
   ]
  },
  {
   "cell_type": "code",
   "execution_count": 19,
   "metadata": {},
   "outputs": [],
   "source": [
    "###program to generate cube numbers(power of three) without using generator \n",
    "def getcubes(n):\n",
    "    listofsquares=[]\n",
    "    for i in range(0,n):\n",
    "        listofsquares.append(i**3)\n",
    "    return listofsquares"
   ]
  },
  {
   "cell_type": "code",
   "execution_count": 20,
   "metadata": {},
   "outputs": [
    {
     "data": {
      "text/plain": [
       "[0, 1, 8, 27, 64, 125]"
      ]
     },
     "execution_count": 20,
     "metadata": {},
     "output_type": "execute_result"
    }
   ],
   "source": [
    "getcubes(6)##list is iterable but not iterator "
   ]
  },
  {
   "cell_type": "code",
   "execution_count": 32,
   "metadata": {},
   "outputs": [],
   "source": [
    "###progrm to generate cube numbers using generator function \n",
    "def gencubes(n):\n",
    "    for num in range(n):\n",
    "        yield num**3\n",
    "        "
   ]
  },
  {
   "cell_type": "code",
   "execution_count": 50,
   "metadata": {},
   "outputs": [
    {
     "data": {
      "text/plain": [
       "<generator object gencubes at 0x000001ED32E3D190>"
      ]
     },
     "execution_count": 50,
     "metadata": {},
     "output_type": "execute_result"
    }
   ],
   "source": [
    "output=gencubes(6)\n",
    "output"
   ]
  },
  {
   "cell_type": "code",
   "execution_count": 51,
   "metadata": {},
   "outputs": [
    {
     "name": "stdout",
     "output_type": "stream",
     "text": [
      "0\n",
      "1\n",
      "8\n",
      "27\n",
      "64\n",
      "125\n"
     ]
    }
   ],
   "source": [
    "for i in (output):\n",
    "    print(i) "
   ]
  },
  {
   "cell_type": "code",
   "execution_count": 48,
   "metadata": {},
   "outputs": [
    {
     "name": "stdout",
     "output_type": "stream",
     "text": [
      "<generator object gencubes at 0x000001ED32E3D040>\n",
      "<generator object gencubes at 0x000001ED32E3D040>\n",
      "<generator object gencubes at 0x000001ED32E3D040>\n",
      "<generator object gencubes at 0x000001ED32E3D040>\n",
      "<generator object gencubes at 0x000001ED32E3D040>\n",
      "<generator object gencubes at 0x000001ED32E3D040>\n"
     ]
    }
   ],
   "source": [
    "for i in(output):\n",
    "    print(output) ##location of objects "
   ]
  },
  {
   "cell_type": "code",
   "execution_count": 2,
   "metadata": {},
   "outputs": [],
   "source": [
    "##fibonacci series using generator \n",
    "def genfibon(n):\n",
    "    a=0\n",
    "    b=1\n",
    "    for i in range (n):\n",
    "        yield a  ###iterates the value of a \n",
    "        a=a,b=b,a+b\n",
    "    "
   ]
  },
  {
   "cell_type": "code",
   "execution_count": 3,
   "metadata": {},
   "outputs": [
    {
     "name": "stdout",
     "output_type": "stream",
     "text": [
      "0 1 1 2 3 5 8 13 21 34 "
     ]
    }
   ],
   "source": [
    "for i in (genfibon(10)):\n",
    "    print(i,end=\" \")"
   ]
  },
  {
   "cell_type": "code",
   "execution_count": 4,
   "metadata": {},
   "outputs": [
    {
     "data": {
      "text/plain": [
       "0"
      ]
     },
     "execution_count": 4,
     "metadata": {},
     "output_type": "execute_result"
    }
   ],
   "source": [
    "a=genfibon(10)\n",
    "next(a)"
   ]
  },
  {
   "cell_type": "code",
   "execution_count": 6,
   "metadata": {},
   "outputs": [
    {
     "data": {
      "text/plain": [
       "1"
      ]
     },
     "execution_count": 6,
     "metadata": {},
     "output_type": "execute_result"
    }
   ],
   "source": [
    "next(a)"
   ]
  },
  {
   "cell_type": "code",
   "execution_count": 7,
   "metadata": {},
   "outputs": [
    {
     "data": {
      "text/plain": [
       "1"
      ]
     },
     "execution_count": 7,
     "metadata": {},
     "output_type": "execute_result"
    }
   ],
   "source": [
    "next(a)"
   ]
  },
  {
   "cell_type": "code",
   "execution_count": 8,
   "metadata": {},
   "outputs": [
    {
     "data": {
      "text/plain": [
       "2"
      ]
     },
     "execution_count": 8,
     "metadata": {},
     "output_type": "execute_result"
    }
   ],
   "source": [
    "next(a)"
   ]
  },
  {
   "cell_type": "code",
   "execution_count": 27,
   "metadata": {},
   "outputs": [],
   "source": [
    "##printing fibonacci series using iterator \n",
    "def genfibon(n):\n",
    "    lst=[]\n",
    "    a=0\n",
    "    b=1\n",
    "    for i in range (n):\n",
    "        lst.append(a)\n",
    "        a=a,b=b,a+b\n",
    "        return iter(lst)\n"
   ]
  },
  {
   "cell_type": "code",
   "execution_count": 28,
   "metadata": {},
   "outputs": [],
   "source": [
    "a=genfibon(10)"
   ]
  },
  {
   "cell_type": "code",
   "execution_count": 21,
   "metadata": {},
   "outputs": [
    {
     "data": {
      "text/plain": [
       "<list_iterator at 0x1664c88e0a0>"
      ]
     },
     "execution_count": 21,
     "metadata": {},
     "output_type": "execute_result"
    }
   ],
   "source": [
    "a"
   ]
  },
  {
   "cell_type": "code",
   "execution_count": 22,
   "metadata": {},
   "outputs": [
    {
     "data": {
      "text/plain": [
       "0"
      ]
     },
     "execution_count": 22,
     "metadata": {},
     "output_type": "execute_result"
    }
   ],
   "source": [
    "next(a)"
   ]
  },
  {
   "cell_type": "markdown",
   "metadata": {},
   "source": [
    "###in for loop we dont get stopiteration error because for loop handles exception by itself "
   ]
  },
  {
   "cell_type": "raw",
   "metadata": {},
   "source": [
    "##MAP"
   ]
  },
  {
   "cell_type": "markdown",
   "metadata": {},
   "source": [
    "map is fuunction that takes in two arguments:\n",
    "    \n",
    "    1.A function.\n",
    "    2.A sequence iterable.\n",
    "in the form: map(function,sequence)\n",
    "    "
   ]
  },
  {
   "cell_type": "code",
   "execution_count": 30,
   "metadata": {},
   "outputs": [
    {
     "data": {
      "text/plain": [
       "25"
      ]
     },
     "execution_count": 30,
     "metadata": {},
     "output_type": "execute_result"
    }
   ],
   "source": [
    "def square_num(x):\n",
    "    return x*x\n",
    "square_num(5)"
   ]
  },
  {
   "cell_type": "code",
   "execution_count": 31,
   "metadata": {},
   "outputs": [
    {
     "ename": "TypeError",
     "evalue": "'function' object is not subscriptable",
     "output_type": "error",
     "traceback": [
      "\u001b[1;31m---------------------------------------------------------------------------\u001b[0m",
      "\u001b[1;31mTypeError\u001b[0m                                 Traceback (most recent call last)",
      "\u001b[1;32m<ipython-input-31-7e5f219a3614>\u001b[0m in \u001b[0;36m<module>\u001b[1;34m\u001b[0m\n\u001b[1;32m----> 1\u001b[1;33m \u001b[0msquare_num\u001b[0m\u001b[1;33m[\u001b[0m\u001b[1;36m1\u001b[0m\u001b[1;33m,\u001b[0m\u001b[1;36m2\u001b[0m\u001b[1;33m,\u001b[0m\u001b[1;36m3\u001b[0m\u001b[1;33m,\u001b[0m\u001b[1;36m4\u001b[0m\u001b[1;33m,\u001b[0m\u001b[1;36m5\u001b[0m\u001b[1;33m]\u001b[0m\u001b[1;33m\u001b[0m\u001b[1;33m\u001b[0m\u001b[0m\n\u001b[0m",
      "\u001b[1;31mTypeError\u001b[0m: 'function' object is not subscriptable"
     ]
    }
   ],
   "source": [
    "square_num[1,2,3,4,5]"
   ]
  },
  {
   "cell_type": "code",
   "execution_count": 33,
   "metadata": {},
   "outputs": [
    {
     "data": {
      "text/plain": [
       "<map at 0x1664c96e670>"
      ]
     },
     "execution_count": 33,
     "metadata": {},
     "output_type": "execute_result"
    }
   ],
   "source": [
    "map(square_num,[1,2,3,4,5,6,7])"
   ]
  },
  {
   "cell_type": "code",
   "execution_count": 34,
   "metadata": {},
   "outputs": [],
   "source": [
    "a=map(square_num,[1,2,3,4,5,6,7])"
   ]
  },
  {
   "cell_type": "code",
   "execution_count": 35,
   "metadata": {},
   "outputs": [
    {
     "data": {
      "text/plain": [
       "[1, 4, 9, 16, 25, 36, 49]"
      ]
     },
     "execution_count": 35,
     "metadata": {},
     "output_type": "execute_result"
    }
   ],
   "source": [
    "list(a)"
   ]
  },
  {
   "cell_type": "code",
   "execution_count": 36,
   "metadata": {},
   "outputs": [
    {
     "data": {
      "text/plain": [
       "<map at 0x1664c96e490>"
      ]
     },
     "execution_count": 36,
     "metadata": {},
     "output_type": "execute_result"
    }
   ],
   "source": [
    "a"
   ]
  },
  {
   "cell_type": "code",
   "execution_count": 38,
   "metadata": {},
   "outputs": [
    {
     "data": {
      "text/plain": [
       "[]"
      ]
     },
     "execution_count": 38,
     "metadata": {},
     "output_type": "execute_result"
    }
   ],
   "source": [
    "list(a) ##iteration is over "
   ]
  },
  {
   "cell_type": "code",
   "execution_count": 52,
   "metadata": {},
   "outputs": [
    {
     "data": {
      "text/plain": [
       "[32.0, 72.5, 104.0, 212.0]"
      ]
     },
     "execution_count": 52,
     "metadata": {},
     "output_type": "execute_result"
    }
   ],
   "source": [
    "##converting temp into celsius or  fahrenheit\n",
    "def fahrenheit(T):\n",
    "    return ((float(9)/5)*T +32)\n",
    "def celsius(T):\n",
    "    return ((float(5)/9)*T -32)\n",
    "temp =[0,22.5,40,100]\n",
    "list(map(fahrenheit,temp))\n",
    "\n",
    "    \n",
    "    "
   ]
  },
  {
   "cell_type": "code",
   "execution_count": 43,
   "metadata": {},
   "outputs": [
    {
     "data": {
      "text/plain": [
       "[-32.0, -19.5, -9.777777777777779, 23.555555555555557]"
      ]
     },
     "execution_count": 43,
     "metadata": {},
     "output_type": "execute_result"
    }
   ],
   "source": [
    "list(map(celsius,temp))"
   ]
  },
  {
   "cell_type": "code",
   "execution_count": 49,
   "metadata": {},
   "outputs": [],
   "source": [
    "###lambda function\n",
    "##it is a function without any function name and works faster that other function\n",
    "##also called anonymus function\n",
    "a=map(lambda x:x*x,[1,2,3,4,5])"
   ]
  },
  {
   "cell_type": "code",
   "execution_count": 50,
   "metadata": {},
   "outputs": [
    {
     "data": {
      "text/plain": [
       "[1, 4, 9, 16, 25]"
      ]
     },
     "execution_count": 50,
     "metadata": {},
     "output_type": "execute_result"
    }
   ],
   "source": [
    "list(a)"
   ]
  },
  {
   "cell_type": "code",
   "execution_count": 54,
   "metadata": {},
   "outputs": [
    {
     "data": {
      "text/plain": [
       "[32.0, 72.5, 104.0, 212.0]"
      ]
     },
     "execution_count": 54,
     "metadata": {},
     "output_type": "execute_result"
    }
   ],
   "source": [
    "list(map(lambda x:((float(9)/5)*x +32),temp))"
   ]
  },
  {
   "cell_type": "code",
   "execution_count": 57,
   "metadata": {},
   "outputs": [],
   "source": [
    "###using lambda without map \n",
    "a=lambda x:x*x\n"
   ]
  },
  {
   "cell_type": "code",
   "execution_count": 59,
   "metadata": {},
   "outputs": [
    {
     "data": {
      "text/plain": [
       "400"
      ]
     },
     "execution_count": 59,
     "metadata": {},
     "output_type": "execute_result"
    }
   ],
   "source": [
    "a(20)"
   ]
  },
  {
   "cell_type": "code",
   "execution_count": 1,
   "metadata": {},
   "outputs": [],
   "source": [
    "###lambda with two parameters/arguments \n",
    "a=lambda x,y:(x+y,x-y)"
   ]
  },
  {
   "cell_type": "code",
   "execution_count": 2,
   "metadata": {},
   "outputs": [
    {
     "data": {
      "text/plain": [
       "(13, -1)"
      ]
     },
     "execution_count": 2,
     "metadata": {},
     "output_type": "execute_result"
    }
   ],
   "source": [
    "a(6,7)"
   ]
  },
  {
   "cell_type": "markdown",
   "metadata": {},
   "source": [
    "#Reduce function ()\n",
    "##combines series of numbers by adding  to reduce it to one number\n",
    "##reduce returns single value while map returns list of values "
   ]
  },
  {
   "cell_type": "code",
   "execution_count": 5,
   "metadata": {},
   "outputs": [
    {
     "data": {
      "text/html": [
       "<img src=\"data:image/png;base64,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\"/>"
      ],
      "text/plain": [
       "<IPython.core.display.Image object>"
      ]
     },
     "execution_count": 5,
     "metadata": {},
     "output_type": "execute_result"
    }
   ],
   "source": [
    "from IPython.display import Image\n",
    "from IPython.core.display import HTML \n",
    "Image(url= \"data:image/png;base64,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\")"
   ]
  },
  {
   "cell_type": "code",
   "execution_count": 1,
   "metadata": {},
   "outputs": [],
   "source": [
    "from functools import reduce ##import reduce from library functools "
   ]
  },
  {
   "cell_type": "code",
   "execution_count": null,
   "metadata": {},
   "outputs": [],
   "source": [
    "reduce()"
   ]
  },
  {
   "cell_type": "code",
   "execution_count": 6,
   "metadata": {},
   "outputs": [
    {
     "data": {
      "text/plain": [
       "12"
      ]
     },
     "execution_count": 6,
     "metadata": {},
     "output_type": "execute_result"
    }
   ],
   "source": [
    "##find maximum of a sequence \n",
    "max_find=lambda a,b:a if (a>b) else b\n",
    "max_find(10,12)"
   ]
  },
  {
   "cell_type": "code",
   "execution_count": 7,
   "metadata": {},
   "outputs": [],
   "source": [
    "##using reduce we can find for sequence of no\n",
    "lst=[47,111,42,13]"
   ]
  },
  {
   "cell_type": "code",
   "execution_count": 8,
   "metadata": {},
   "outputs": [
    {
     "data": {
      "text/plain": [
       "111"
      ]
     },
     "execution_count": 8,
     "metadata": {},
     "output_type": "execute_result"
    }
   ],
   "source": [
    "reduce(max_find,lst)"
   ]
  },
  {
   "cell_type": "code",
   "execution_count": 16,
   "metadata": {},
   "outputs": [],
   "source": [
    "##to find the sum of sequence using reduce \n",
    "sum1=lambda x,y:x+y"
   ]
  },
  {
   "cell_type": "code",
   "execution_count": 17,
   "metadata": {},
   "outputs": [
    {
     "data": {
      "text/plain": [
       "100"
      ]
     },
     "execution_count": 17,
     "metadata": {},
     "output_type": "execute_result"
    }
   ],
   "source": [
    "lst=[10,20,30,40]\n",
    "reduce(sum1,lst)"
   ]
  },
  {
   "cell_type": "code",
   "execution_count": null,
   "metadata": {},
   "outputs": [],
   "source": []
  }
 ],
 "metadata": {
  "kernelspec": {
   "display_name": "Python 3",
   "language": "python",
   "name": "python3"
  },
  "language_info": {
   "codemirror_mode": {
    "name": "ipython",
    "version": 3
   },
   "file_extension": ".py",
   "mimetype": "text/x-python",
   "name": "python",
   "nbconvert_exporter": "python",
   "pygments_lexer": "ipython3",
   "version": "3.8.5"
  }
 },
 "nbformat": 4,
 "nbformat_minor": 4
}
